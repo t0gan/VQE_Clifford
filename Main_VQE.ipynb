{
 "cells": [
  {
   "cell_type": "markdown",
   "id": "e90b0a8f-7dfb-4529-9878-d8b93300f881",
   "metadata": {},
   "source": [
    "# Simulating $H_{2}$ Molecule using VQE with Clifford Ansatz\n",
    "\n",
    "### [togan.me](https://togan.me)\n",
    "\n"
   ]
  },
  {
   "cell_type": "markdown",
   "id": "8896023c-3bd0-4d2c-b176-f18c0f120a73",
   "metadata": {},
   "source": [
    "In quantum chemistry application, the problem of finding the minimum eigenvalue of a matrix is very crucial, as it can be used to correspond to the minimum eigenvalue of a Hermitian matrix characterizing the molecule's ground state energy. \n",
    "\n",
    "Although the quantum phase estimation algorithm may be used to find the minimum eigenvalue, Its implementation on useful problems requires circuit depths exceeding the limits of quantum hardware available in the NISQ era. Alternatively, in 2014, Peruzzo et al. proposed VQE to estimate the ground state energy of a molecule using much shallower circuits. VQE uses a variational technique to find the minimum eigenvalue of the Hamiltonian H of a given system. A VQE requires defining two algorithmic components: a trial state (ansatz), and a classical optimizer. The ansatz is varied by the optimizer via its set of parameters, such that it optimizes towards a state, as determined by the parameters applied to the variational form, that will result in the minimum expected value being measured of the input operator or Hamiltonian.\n",
    "\n",
    "In this tutorial, a $H_{2}$ molecule's ground state energy (Hartree) is calculated for a range of atomic bond lengths (Angstrom) using a Variational Quantum Eigensolver (VQE), where it is implemented using CAFQA; a Clifford Ansatz For Quantum Accuracy approach presented in G. S. Ravi et al., CAFQA: Clifford Ansatz For Quantum Accuracy. arXiv, 2022.\n",
    "\n",
    "The CAFQA is implemented against the conventional HF approach and a CXs Clifford example. They are all compared to the FCI which is considered to give the exact energy values and used as the base to measure the other approaches' performances. OpenFermion and Braket SDK were used among other packages during the implementation of the algorithm."
   ]
  },
  {
   "cell_type": "code",
   "execution_count": 2,
   "id": "5047cc6a-30ce-4791-aaeb-94e4647bba27",
   "metadata": {},
   "outputs": [],
   "source": [
    "# Creating directories that will store the computation results\n",
    "import os\n",
    "!mkdir -p \"CAFQA_data\"\n",
    "!mkdir -p \"CXs_Clifford_data\""
   ]
  },
  {
   "cell_type": "code",
   "execution_count": 3,
   "id": "b7689b97-7ff2-422b-9787-e4efadb0fe64",
   "metadata": {},
   "outputs": [],
   "source": [
    "# Importing necessary libraries\n",
    "import numpy as np\n",
    "import matplotlib\n",
    "from matplotlib import pyplot as plt\n",
    "import openfermion\n",
    "from openfermion import MolecularData\n",
    "from openfermion.transforms import get_fermion_operator, jordan_wigner\n",
    "from openfermionpyscf import run_pyscf\n",
    "from braket.circuits import Circuit, FreeParameter, observables\n",
    "from braket.devices import LocalSimulator"
   ]
  },
  {
   "cell_type": "markdown",
   "id": "0152f534-b95a-421b-bece-059e1a863757",
   "metadata": {},
   "source": [
    "### Defining bond lengths and range for the problem space"
   ]
  },
  {
   "cell_type": "code",
   "execution_count": 4,
   "id": "8e0e2399-b796-4903-b268-957ad9f788ae",
   "metadata": {},
   "outputs": [
    {
     "name": "stdout",
     "output_type": "stream",
     "text": [
      "Simulating H2 molecule's ground-state for 19 bond lengths\n"
     ]
    }
   ],
   "source": [
    "# For H2, consider all electrons and orbitals as active for STO-3G\n",
    "occ_ind = act_ind = None\n",
    "# Bond lengths (A) to simulate ground-state of H2\n",
    "bond_lengths = np.arange(start=0.32, stop=3.10, step=0.15)\n",
    "# Number of bond lengths to simulate H2 for\n",
    "n_configs = len(bond_lengths)\n",
    "print(f\"Simulating H2 molecule's ground-state for {n_configs} bond lengths\")"
   ]
  },
  {
   "cell_type": "markdown",
   "id": "804843a3-d0e0-4cc0-98c2-3e92774a86e5",
   "metadata": {},
   "source": [
    "### Initial classical computation of $H_{2}$ electronic Hamiltonian "
   ]
  },
  {
   "cell_type": "code",
   "execution_count": 5,
   "id": "1da92eb2-384c-4843-a941-0729fc1f79e7",
   "metadata": {},
   "outputs": [
    {
     "name": "stdout",
     "output_type": "stream",
     "text": [
      ".........CAFQA data.........\n",
      "Computing the Hamiltonian for bond length of 0.32 A...\n",
      "Computing the Hamiltonian for bond length of 0.47 A...\n",
      "Computing the Hamiltonian for bond length of 0.62 A...\n",
      "Computing the Hamiltonian for bond length of 0.77 A...\n",
      "Computing the Hamiltonian for bond length of 0.92 A...\n",
      "Computing the Hamiltonian for bond length of 1.07 A...\n",
      "Computing the Hamiltonian for bond length of 1.22 A...\n",
      "Computing the Hamiltonian for bond length of 1.37 A...\n",
      "Computing the Hamiltonian for bond length of 1.52 A...\n",
      "Computing the Hamiltonian for bond length of 1.67 A...\n",
      "Computing the Hamiltonian for bond length of 1.82 A...\n",
      "Computing the Hamiltonian for bond length of 1.97 A...\n",
      "Computing the Hamiltonian for bond length of 2.12 A...\n",
      "Computing the Hamiltonian for bond length of 2.27 A...\n",
      "Computing the Hamiltonian for bond length of 2.42 A...\n",
      "Computing the Hamiltonian for bond length of 2.57 A...\n",
      "Computing the Hamiltonian for bond length of 2.72 A...\n",
      "Computing the Hamiltonian for bond length of 2.87 A...\n",
      "Computing the Hamiltonian for bond length of 3.02 A...\n",
      "Computed Hamiltonians for 19 bond lengths. \n",
      "\n",
      ".........CXs Clifford data.........\n",
      "Computing Hamiltonian for bond length of 0.32 A...\n",
      "Computing Hamiltonian for bond length of 0.47 A...\n",
      "Computing Hamiltonian for bond length of 0.62 A...\n",
      "Computing Hamiltonian for bond length of 0.77 A...\n",
      "Computing Hamiltonian for bond length of 0.92 A...\n",
      "Computing Hamiltonian for bond length of 1.07 A...\n",
      "Computing Hamiltonian for bond length of 1.22 A...\n",
      "Computing Hamiltonian for bond length of 1.37 A...\n",
      "Computing Hamiltonian for bond length of 1.52 A...\n",
      "Computing Hamiltonian for bond length of 1.67 A...\n",
      "Computing Hamiltonian for bond length of 1.82 A...\n",
      "Computing Hamiltonian for bond length of 1.97 A...\n",
      "Computing Hamiltonian for bond length of 2.12 A...\n",
      "Computing Hamiltonian for bond length of 2.27 A...\n",
      "Computing Hamiltonian for bond length of 2.42 A...\n",
      "Computing Hamiltonian for bond length of 2.57 A...\n",
      "Computing Hamiltonian for bond length of 2.72 A...\n",
      "Computing Hamiltonian for bond length of 2.87 A...\n",
      "Computing Hamiltonian for bond length of 3.02 A...\n",
      "Computed Hamiltonians for 19 bond lengths.\n"
     ]
    }
   ],
   "source": [
    "# Store data and qubit Hamiltonians for each bond length configuration\n",
    "mol_configs = {}    # For the CAFQA data\n",
    "mol_configs_2 = {}  # For the CXs Clifford data\n",
    "\n",
    "print(\".........CAFQA data.........\")\n",
    "# Store molecular config data and Hamiltonian for each bond length\n",
    "for rr in bond_lengths:\n",
    "    # round to 2 digits to get a reasonable-length number for bond-length\n",
    "    r = round(rr, 2)\n",
    "    print(f\"Computing the Hamiltonian for bond length of {r} A...\")\n",
    "    geom = [('H', (0.0, 0.0, -r/2.)), ('H', (0.0, 0.0, r/2.))]\n",
    "    h2_molecule = MolecularData(\n",
    "        geometry=geom, basis='sto-3g', multiplicity=1, charge=0,\n",
    "        description='bondlength_'+str(r)+'A', filename=\"\",\n",
    "        data_directory=os.getcwd()+'/CAFQA_data')\n",
    "    # Run PySCF to get molecular integrals, HF and FCI energies\n",
    "    h2_molecule = run_pyscf(molecule=h2_molecule, run_scf=True,\n",
    "                            run_mp2=False, run_cisd=False,\n",
    "                            run_ccsd=False, run_fci=True, verbose=False)\n",
    "    # Convert electronic Hamiltonian to qubit operator using JW encoding\n",
    "    h2_qubit_hamiltonian = jordan_wigner(get_fermion_operator(\n",
    "        h2_molecule.get_molecular_hamiltonian(occupied_indices=occ_ind,\n",
    "                                              active_indices=act_ind)))\n",
    "    # store molecular data and qubit operator for this config in an ordered list\n",
    "    mol_configs[r] = [h2_molecule, h2_qubit_hamiltonian]\n",
    "print(f\"Computed Hamiltonians for {len(mol_configs)} bond lengths. \\n\")\n",
    "\n",
    "print(\".........CXs Clifford data.........\")\n",
    "for rr in bond_lengths:\n",
    "    r = round(rr, 2)\n",
    "    print(f\"Computing Hamiltonian for bond length of {r} A...\")\n",
    "    geom = [ ('H', (0.0, 0.0, -r/2.)), ('H', (0.0, 0.0, r/2.))]\n",
    "    h2_molecule = MolecularData(\n",
    "        geometry=geom, basis='sto-3g', multiplicity=1, charge=0,\n",
    "        description='bondlength_'+str(r)+'A', filename=\"\",\n",
    "        data_directory=os.getcwd()+'/CXs_Clifford_data')\n",
    "    h2_molecule = run_pyscf(molecule=h2_molecule, run_scf=True,\n",
    "                            run_mp2=False, run_cisd=False,\n",
    "                            run_ccsd=False, run_fci=True, verbose=False)\n",
    "    h2_qubit_hamiltonian = jordan_wigner(get_fermion_operator(\n",
    "        h2_molecule.get_molecular_hamiltonian(occupied_indices=occ_ind,\n",
    "                                              active_indices=act_ind)))\n",
    "    mol_configs_2[r] = [h2_molecule, h2_qubit_hamiltonian]\n",
    "print(f\"Computed Hamiltonians for {len(mol_configs_2)} bond lengths.\")"
   ]
  },
  {
   "cell_type": "markdown",
   "id": "487a1ebc-ae8d-4e22-b54b-39ac790e7c8f",
   "metadata": {
    "tags": []
   },
   "source": [
    "### Circuit construction for the Clifford ansatz inspired by the UCCSD ansatz \n",
    "\n",
    "The Haretree-Fock state is given by $ | \\psi_{HF} \\rangle = | 0011 \\rangle $ which represents the state where the molecular orbitals $| \\sigma_{g \\uparrow} \\rangle$ and $| \\sigma_{g \\downarrow} \\rangle$ are occupied, while the molecular orbitals $| \\sigma_{u \\uparrow} \\rangle$ $| \\sigma_{u \\downarrow} \\rangle$ are unoccupied.\n",
    "The most general state for $H_2$ with the same charge and spin multiplicity as the HF state can be expressed as $ | \\psi \\rangle = \\alpha | 0011 \\rangle + \\beta | 1100 \\rangle + \\gamma | 1001 \\rangle + \\delta | 0110 \\rangle $ . \n",
    "\n",
    "The UCCSD ansatz for $H_2$ in the STO-3G basis can be simplified to the single-parameter unitary operator  $ U (\\theta) = e^{\\imath \\theta X_3 X_2 X_1 Y_0} $ acting on the HF reference state given by $ | \\psi_{HF} \\rangle = | 0011 \\rangle $ . Later, by defining the range for the parameter angle $ \\theta[i]= \\{ 0, \\, \\pi/2, \\, \\pi, \\, 3\\pi/2 \\} $, we reduce the rotation gates to the Clifford group."
   ]
  },
  {
   "cell_type": "code",
   "execution_count": 7,
   "id": "008892a5-2b55-499e-832b-81dd45c4a9d4",
   "metadata": {},
   "outputs": [
    {
     "name": "stdout",
     "output_type": "stream",
     "text": [
      "T  : |   0    |   1    |2|3|4|     5     |6|7|8|    9    |\n",
      "                                                          \n",
      "q0 : -H---------------------X-Rz(theta_1)-X-H-------------\n",
      "                            |             |               \n",
      "q1 : -H-------------------X-C-------------C-X-H-----------\n",
      "                          |                 |             \n",
      "q2 : -Rx(3.14)-H--------X-C-----------------C-X-H---------\n",
      "                        |                     |           \n",
      "q3 : -Rx(3.14)-Rx(1.57)-C---------------------C-Rx(-1.57)-\n",
      "\n",
      "T  : |   0    |   1    |2|3|4|     5     |6|7|8|    9    |\n",
      "\n",
      "Unassigned parameters: {theta_1}.\n"
     ]
    }
   ],
   "source": [
    "# Parameterized circuit for Clifford ansatz\n",
    "theta_1 = FreeParameter(\"theta_1\")\n",
    "\n",
    "# Initialize circuit\n",
    "ansatz = Circuit().rx(2, np.pi).rx(3, np.pi)\n",
    "# Perform rotations to measure in Y and X basis\n",
    "ansatz.rx(3, np.pi/2.).h(range(3))\n",
    "# Entangle with CNOTs\n",
    "ansatz.cnot(3, 2).cnot(2, 1).cnot(1, 0)\n",
    "# Perform rotation in Z basis\n",
    "ansatz.rz(0, theta_1)\n",
    "# Uncompute the rotations\n",
    "ansatz.cnot(1, 0).cnot(2, 1).cnot(3, 2)\n",
    "ansatz.h(range(3))\n",
    "ansatz.rx(3, -np.pi/2.)\n",
    "\n",
    "print(ansatz)"
   ]
  },
  {
   "cell_type": "markdown",
   "id": "6724c106-7a9f-4e4d-9d7c-066b1a88e29b",
   "metadata": {},
   "source": [
    "### Construct the Clifford Ansatz of CXs components (form Fig 10. in G. S. Ravi et al., CAFQA pg. 13)"
   ]
  },
  {
   "cell_type": "code",
   "execution_count": 13,
   "id": "7896a5a9-daff-4aac-88a2-642322e98796",
   "metadata": {},
   "outputs": [
    {
     "name": "stdout",
     "output_type": "stream",
     "text": [
      "T  : |     0     |     1     |2|3|     4     |     5     |     6     |     7     |\n",
      "                                                                                  \n",
      "q0 : -Ry(theta_2)-Rx(theta_2)-C-X-Ry(theta_2)-Rz(theta_2)-------------------------\n",
      "                              | |                                                 \n",
      "q1 : -Ry(theta_2)-Rx(theta_2)-|-C-X-----------Ry(theta_2)-Rz(theta_2)-------------\n",
      "                              |   |                                               \n",
      "q2 : -Ry(theta_2)-Rx(theta_2)-|---C-----------X-----------Ry(theta_2)-Rz(theta_2)-\n",
      "                              |               |                                   \n",
      "q3 : -Ry(theta_2)-Rx(theta_2)-X---------------C-----------Ry(theta_2)-Rz(theta_2)-\n",
      "\n",
      "T  : |     0     |     1     |2|3|     4     |     5     |     6     |     7     |\n",
      "\n",
      "Unassigned parameters: {theta_2}.\n"
     ]
    }
   ],
   "source": [
    "# Parameterized circuit for Clifford ansatz\n",
    "theta_2 = FreeParameter(\"theta_2\")\n",
    "\n",
    "# Initialize circuit state\n",
    "cxs_clifford = Circuit().ry(range(4), theta_2).rx(range(4), theta_2)\n",
    "# Entangle with CNOTs\n",
    "cxs_clifford.cnot(0, 3)\n",
    "# Loop for rotation and CNOTs gates\n",
    "for i in range(3):\n",
    "    cxs_clifford.cnot(i+1, i).ry(i, theta_2).rz(i, theta_2)\n",
    "cxs_clifford.ry(3, theta_2).rz(3, theta_2)\n",
    "\n",
    "\n",
    "print(cxs_clifford)"
   ]
  },
  {
   "cell_type": "markdown",
   "id": "320a986d-8a12-4c33-8c1f-40708545e604",
   "metadata": {},
   "source": [
    "###  Initialize simulator to run the VQE"
   ]
  },
  {
   "cell_type": "code",
   "execution_count": 14,
   "id": "ffd0bf57-908c-4194-b8bd-b95ef094d2b0",
   "metadata": {},
   "outputs": [
    {
     "name": "stdout",
     "output_type": "stream",
     "text": [
      "Total number of qubits in the circuit: 4\n"
     ]
    }
   ],
   "source": [
    "# initialize quantum device to run VQE over\n",
    "local_sim = LocalSimulator()\n",
    "# Define number of qubits\n",
    "n_qubits = ansatz.qubit_count\n",
    "#alternativly, n_qubits = cxs_clifford.qubit_count\n",
    "print(f\"Total number of qubits in the circuit: {n_qubits}\")"
   ]
  },
  {
   "cell_type": "markdown",
   "id": "64627e73-465d-47c5-b23c-efc92f739e6e",
   "metadata": {},
   "source": [
    "### Define functions to compute the expectation value of the Hamiltonian operator -Braket SDK"
   ]
  },
  {
   "cell_type": "code",
   "execution_count": 15,
   "id": "78eecbfe-394a-4e78-83c9-16f1643b6d11",
   "metadata": {},
   "outputs": [],
   "source": [
    "def calculate_observable_expectation(a_indices_gates, a_ckt, a_dev):\n",
    "    \"\"\" Calculate the expectation value of the given observable\n",
    "    Parameters:\n",
    "        a_indices_gates [sequence(tuple(int, str))]: List of tuple of qubit index & observable\n",
    "        a_ckt [Circuit]: Braket circuit to which measurement gates are to be added\n",
    "        a_dev [Braket Device]: Quantum device to run a_ckt on\n",
    "    Returns:\n",
    "        float: The expectation value of the observable\n",
    "    \"\"\"\n",
    "    if not a_indices_gates:\n",
    "        # this is the constant term of the Hamiltonian\n",
    "        return 1\n",
    "    factors = {}\n",
    "    for ind, factor in a_indices_gates:\n",
    "        # N.B.: Convert from OpenFermion's little-endian convention to Braket's big-endian convention\n",
    "        qubit = n_qubits - 1 - ind\n",
    "        if factor == \"X\":\n",
    "            factors[qubit] = observables.X()\n",
    "        elif factor == \"Y\":\n",
    "            factors[qubit] = observables.Y()\n",
    "        elif factor == \"Z\":\n",
    "            factors[qubit] = observables.Z()\n",
    "    qubits = sorted(factors)\n",
    "    observable = observables.TensorProduct([factors[qubit] for qubit in qubits])\n",
    "    # initialize measuring circuit and add expectation measurement\n",
    "    measuring_ckt = Circuit().add(a_ckt).expectation(observable=observable, target=qubits)\n",
    "    # compute expectation value\n",
    "    return a_dev.run(measuring_ckt, shots=2000).result().values[0]\n",
    "\n",
    "\n",
    "def H_exp(a_qH, a_ckt, a_dev):\n",
    "    \"\"\" Get expectation value of Hamiltonian for a given circuit result.\n",
    "    Parameters:\n",
    "        a_qH [OpenFermion QubitHamiltonian.terms]: Dictionary of OpenFermion QubitHamiltonian operator terms\n",
    "        a_ckt [Braket Circuit]: Circuit to create the final state\n",
    "        a_dev [Braket Device]: Quantum device to run a_ckt on\n",
    "    Returns:\n",
    "        H_e [float]: Expectation value of a_qH for a_ket\n",
    "    \"\"\"\n",
    "    # initialize expectation value of Hamiltonian\n",
    "    H_e = 0.\n",
    "    # loop over each term in qubit operator\n",
    "    for term in a_qH:\n",
    "        # extract the real-valued coefficient for this term\n",
    "        coeff = np.real(a_qH[term])\n",
    "        # compute and add this term's contribution to the Hamiltonian\n",
    "        H_e += coeff * calculate_observable_expectation(term, a_ckt, a_dev)\n",
    "    return H_e"
   ]
  },
  {
   "cell_type": "markdown",
   "id": "62848ac5-1ba0-43ea-bcc5-baeeef07793b",
   "metadata": {},
   "source": [
    "### Get the resulting ground-state energy for each configuration against bond lengths\n",
    "\n",
    "Note that we set the number of VQE parameter values to four which reduces the rotation gates to the Clifford group\n",
    "\n",
    "$ \\theta[i]= \\{ 0, \\, \\pi/2, \\, \\pi, \\, 3\\pi/2 \\} $"
   ]
  },
  {
   "cell_type": "code",
   "execution_count": 16,
   "id": "08a16efa-8583-4dcd-9365-500c84d6a982",
   "metadata": {},
   "outputs": [
    {
     "name": "stdout",
     "output_type": "stream",
     "text": [
      "Computing ground-state energy for bond-length of 0.32 Angstrom...\n",
      "min H(R=0.32 A) = -0.6785 Hartree\n",
      "Computing ground-state energy for bond-length of 0.47 Angstrom...\n",
      "min H(R=0.47 A) = -1.0116 Hartree\n",
      "Computing ground-state energy for bond-length of 0.62 Angstrom...\n",
      "min H(R=0.62 A) = -1.1045 Hartree\n",
      "Computing ground-state energy for bond-length of 0.77 Angstrom...\n",
      "min H(R=0.77 A) = -1.1154 Hartree\n",
      "Computing ground-state energy for bond-length of 0.92 Angstrom...\n",
      "min H(R=0.92 A) = -1.0868 Hartree\n",
      "Computing ground-state energy for bond-length of 1.07 Angstrom...\n",
      "min H(R=1.07 A) = -1.0475 Hartree\n",
      "Computing ground-state energy for bond-length of 1.22 Angstrom...\n",
      "min H(R=1.22 A) = -1.0005 Hartree\n",
      "Computing ground-state energy for bond-length of 1.37 Angstrom...\n",
      "min H(R=1.37 A) = -0.9518 Hartree\n",
      "Computing ground-state energy for bond-length of 1.52 Angstrom...\n",
      "min H(R=1.52 A) = -0.9091 Hartree\n",
      "Computing ground-state energy for bond-length of 1.67 Angstrom...\n",
      "min H(R=1.67 A) = -0.9025 Hartree\n",
      "Computing ground-state energy for bond-length of 1.82 Angstrom...\n",
      "min H(R=1.82 A) = -0.9164 Hartree\n",
      "Computing ground-state energy for bond-length of 1.97 Angstrom...\n",
      "min H(R=1.97 A) = -0.9215 Hartree\n",
      "Computing ground-state energy for bond-length of 2.12 Angstrom...\n",
      "min H(R=2.12 A) = -0.9246 Hartree\n",
      "Computing ground-state energy for bond-length of 2.27 Angstrom...\n",
      "min H(R=2.27 A) = -0.9290 Hartree\n",
      "Computing ground-state energy for bond-length of 2.42 Angstrom...\n",
      "min H(R=2.42 A) = -0.9321 Hartree\n",
      "Computing ground-state energy for bond-length of 2.57 Angstrom...\n",
      "min H(R=2.57 A) = -0.9334 Hartree\n",
      "Computing ground-state energy for bond-length of 2.72 Angstrom...\n",
      "min H(R=2.72 A) = -0.9358 Hartree\n",
      "Computing ground-state energy for bond-length of 2.87 Angstrom...\n",
      "min H(R=2.87 A) = -0.9327 Hartree\n",
      "Computing ground-state energy for bond-length of 3.02 Angstrom...\n",
      "min H(R=3.02 A) = -0.9370 Hartree\n",
      "Computing ground-state energy for bond-length of 0.32 Angstrom...\n",
      "min H(R=0.32 A) = 0.7016 Hartree\n",
      "Computing ground-state energy for bond-length of 0.47 Angstrom...\n",
      "min H(R=0.47 A) = 0.0217 Hartree\n",
      "Computing ground-state energy for bond-length of 0.62 Angstrom...\n",
      "min H(R=0.62 A) = -0.3498 Hartree\n",
      "Computing ground-state energy for bond-length of 0.77 Angstrom...\n",
      "min H(R=0.77 A) = -0.5704 Hartree\n",
      "Computing ground-state energy for bond-length of 0.92 Angstrom...\n",
      "min H(R=0.92 A) = -0.6925 Hartree\n",
      "Computing ground-state energy for bond-length of 1.07 Angstrom...\n",
      "min H(R=1.07 A) = -0.7791 Hartree\n",
      "Computing ground-state energy for bond-length of 1.22 Angstrom...\n",
      "min H(R=1.22 A) = -0.8324 Hartree\n",
      "Computing ground-state energy for bond-length of 1.37 Angstrom...\n",
      "min H(R=1.37 A) = -0.8731 Hartree\n",
      "Computing ground-state energy for bond-length of 1.52 Angstrom...\n",
      "min H(R=1.52 A) = -0.8970 Hartree\n",
      "Computing ground-state energy for bond-length of 1.67 Angstrom...\n",
      "min H(R=1.67 A) = -0.9078 Hartree\n",
      "Computing ground-state energy for bond-length of 1.82 Angstrom...\n",
      "min H(R=1.82 A) = -0.9126 Hartree\n",
      "Computing ground-state energy for bond-length of 1.97 Angstrom...\n",
      "min H(R=1.97 A) = -0.9248 Hartree\n",
      "Computing ground-state energy for bond-length of 2.12 Angstrom...\n",
      "min H(R=2.12 A) = -0.9278 Hartree\n",
      "Computing ground-state energy for bond-length of 2.27 Angstrom...\n",
      "min H(R=2.27 A) = -0.9273 Hartree\n",
      "Computing ground-state energy for bond-length of 2.42 Angstrom...\n",
      "min H(R=2.42 A) = -0.9305 Hartree\n",
      "Computing ground-state energy for bond-length of 2.57 Angstrom...\n",
      "min H(R=2.57 A) = -0.9303 Hartree\n",
      "Computing ground-state energy for bond-length of 2.72 Angstrom...\n",
      "min H(R=2.72 A) = -0.9338 Hartree\n",
      "Computing ground-state energy for bond-length of 2.87 Angstrom...\n",
      "min H(R=2.87 A) = -0.9302 Hartree\n",
      "Computing ground-state energy for bond-length of 3.02 Angstrom...\n",
      "min H(R=3.02 A) = -0.9253 Hartree\n"
     ]
    }
   ],
   "source": [
    "# number of VQE parameter values to scan\n",
    "n_theta = 4\n",
    "\n",
    "# configs loop over all bond lengths\n",
    "for r in mol_configs:\n",
    "    print(f\"Computing ground-state energy for bond-length of {r} Angstrom...\")\n",
    "    # intialize min energy\n",
    "    mol_configs[r].append(np.inf)\n",
    "    # Loop over all VQE parameter values\n",
    "    for theta in np.linspace(start=0, stop=2*np.pi, num=n_theta, endpoint=False):\n",
    "        # get expectation value of this config's Hamiltonian for this parameter value\n",
    "        exp_H_theta = H_exp(mol_configs[r][1].terms, ansatz(theta), local_sim)\n",
    "        # if this expectation value is less than min, update it\n",
    "        if exp_H_theta < mol_configs[r][2]:\n",
    "            mol_configs[r][2] = exp_H_theta\n",
    "    print(f\"min H(R={r} A) = {mol_configs[r][2]:.4f} Hartree\")\n",
    "    \n",
    "# configs_2 loop over all bond lengths\n",
    "for r in mol_configs_2:\n",
    "    print(f\"Computing ground-state energy for bond-length of {r} Angstrom...\")\n",
    "    # intialize min energy\n",
    "    mol_configs_2[r].append(np.inf)\n",
    "    # Loop over all VQE parameter values\n",
    "    for theta in np.linspace(start=0, stop=2*np.pi, num=n_theta, endpoint=False):\n",
    "        # get expectation value of this config's Hamiltonian for this parameter value\n",
    "        exp_H_theta = H_exp(mol_configs_2[r][1].terms, cxs_clifford(theta), local_sim)\n",
    "        # if this expectation value is less than min, update it\n",
    "        if exp_H_theta < mol_configs_2[r][2]:\n",
    "            mol_configs_2[r][2] = exp_H_theta\n",
    "    print(f\"min H(R={r} A) = {mol_configs_2[r][2]:.4f} Hartree\")"
   ]
  },
  {
   "cell_type": "markdown",
   "id": "1d46465e-27f4-4e2d-8ad3-744c57734a28",
   "metadata": {},
   "source": [
    "### Plot the results"
   ]
  },
  {
   "cell_type": "code",
   "execution_count": 17,
   "id": "99af793e-4f04-4774-873d-bb69ad3d2e57",
   "metadata": {},
   "outputs": [
    {
     "data": {
      "image/png": "[encoded data removed]",
      "text/plain": [
       "<Figure size 1008x576 with 1 Axes>"
      ]
     },
     "metadata": {
      "needs_background": "light"
     },
     "output_type": "display_data"
    }
   ],
   "source": [
    "plt.figure(figsize=(14, 8))\n",
    "plt.plot(list(mol_configs.keys()), [val[0].hf_energy for val in mol_configs.values()], 'o-', color=\"blue\", label='HF')\n",
    "plt.plot(list(mol_configs.keys()), [val[0].fci_energy for val in mol_configs.values()], 'o-', color=\"red\", label=' Exact (FCI)')\n",
    "plt.plot(list(mol_configs.keys()), [val[2] for val in mol_configs.values()], 'o-', color=\"green\", label='QAFQA')\n",
    "plt.plot(list(mol_configs.keys()), [val[2] for val in mol_configs_2.values()], 'o--', color=\"black\", label='CXs_Clifford')\n",
    "plt.ylim(-1.25, 0)\n",
    "plt.grid()\n",
    "plt.xlabel('Bond length [A]')\n",
    "plt.ylabel('Energy [Hartree]')\n",
    "plt.legend()\n",
    "plt.title('H2 Energy')\n",
    "plt.savefig('VQE_H2.png')"
   ]
  },
  {
   "cell_type": "markdown",
   "id": "fc681153-c14b-47fc-ab3a-f493c583ff2a",
   "metadata": {
    "tags": []
   },
   "source": [
    "### References\n",
    "\n",
    "Ravi, G., Gokhale, P., Ding, Y., Kirby, W., Smith, K., Baker, J., Love, P., Hoffmann, H., Brown, K., & Chong, F.. (2022). CAFQA: Clifford Ansatz For Quantum Accuracy.\n",
    "\n",
    "]A. Peruzzo, J. McClean, P. Shadbolt, M.-H. Yung, X.-Q. Zhou, P.J. Love, A. Aspuru-Guzik, J.L. O’Brien, A variational eigenvalue solver on a photonic quantum processor, Nature Communications. 5 (2014).\n",
    "\n",
    "Tkachenko, N., Sud, J., Zhang, Y., Tretiak, S., Anisimov, P., Arrasmith, A., Coles, P., Cincio, L. and Dub, P., 2021. Correlation-Informed Permutation of Qubits for Reducing Ansatz Depth in the Variational Quantum Eigensolver. PRX Quantum, 2(2).\n",
    "\n",
    "McArdle, S., Endo, S., Aspuru-Guzik, A., Benjamin, S., & Yuan, X. (2020). Quantum computational chemistry. Reviews of Modern Physics, 92(1).\n",
    "\n",
    "Qiskit documentation\n",
    "\n",
    "Braket SDK documentation\n",
    "\n",
    "OpenFermion documentation"
   ]
  },
  {
   "cell_type": "code",
   "execution_count": null,
   "id": "542812bc-98de-4e86-8679-8a0692cf4b74",
   "metadata": {},
   "outputs": [],
   "source": []
  }
 ],
 "metadata": {
  "kernelspec": {
   "display_name": "Python 3 (ipykernel)",
   "language": "python",
   "name": "python3"
  },
  "language_info": {
   "codemirror_mode": {
    "name": "ipython",
    "version": 3
   },
   "file_extension": ".py",
   "mimetype": "text/x-python",
   "name": "python",
   "nbconvert_exporter": "python",
   "pygments_lexer": "ipython3",
   "version": "3.9.7"
  }
 },
 "nbformat": 4,
 "nbformat_minor": 5
}
